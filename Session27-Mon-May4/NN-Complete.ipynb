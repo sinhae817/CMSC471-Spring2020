{
 "cells": [
  {
   "cell_type": "markdown",
   "metadata": {
    "slideshow": {
     "slide_type": "slide"
    }
   },
   "source": [
    "#### <h1><center>CMSC 478: Introduction to Machine Learning</center></h1>\n",
    "\n",
    "<center><img src=\"img/title.jpg\" align=\"center\"/></center>\n",
    "\n",
    "\n",
    "<h3 style=\"color:blue;\"><center>Instructor: Fereydoon Vafaei</center></h3>\n",
    "\n",
    "\n",
    "<h5 style=\"color:purple;\"><center>Neural Networks</center></h5>\n",
    "\n",
    "<center><img src=\"img/UMBC_logo.png\" align=\"center\"/></center>"
   ]
  },
  {
   "cell_type": "markdown",
   "metadata": {
    "slideshow": {
     "slide_type": "slide"
    }
   },
   "source": [
    "<h1><center>Agenda</center></h1>\n",
    "\n",
    "- <b>Neural Networks</b>\n",
    "    - Biological Inspiration\n",
    "    - Perceptron\n",
    "    - Multi-Layer Perceptron (MLP)\n",
    "    - Backpropagation\n",
    "    - MLP For Regression and Classification\n",
    "    - Fine-Tuning Neural Network Hyperparameters"
   ]
  },
  {
   "cell_type": "code",
   "execution_count": 1,
   "metadata": {
    "slideshow": {
     "slide_type": "notes"
    }
   },
   "outputs": [],
   "source": [
    "import numpy as np\n",
    "import matplotlib.pyplot as plt\n",
    "%matplotlib inline "
   ]
  },
  {
   "cell_type": "markdown",
   "metadata": {
    "slideshow": {
     "slide_type": "slide"
    }
   },
   "source": [
    "<h1><center>Biological Neuron</center></h1>\n",
    "\n",
    "<center><img src=\"img/bio.png\" align=\"center\"/></center>\n",
    "\n",
    "<font size='1'>Image from Ref[1]</font>"
   ]
  },
  {
   "cell_type": "markdown",
   "metadata": {
    "slideshow": {
     "slide_type": "slide"
    }
   },
   "source": [
    "<h1><center>Nuerotransmission</center></h1>\n",
    "\n",
    "![](https://thumbs.gfycat.com/BlandGlamorousFrenchbulldog-small.gif)"
   ]
  },
  {
   "cell_type": "markdown",
   "metadata": {
    "slideshow": {
     "slide_type": "slide"
    }
   },
   "source": [
    "<h1><center>Biological Neural Networks</center></h1>\n",
    "\n",
    "![](https://media.giphy.com/media/4MxMvzhTEuqty/giphy.gif)"
   ]
  },
  {
   "cell_type": "markdown",
   "metadata": {
    "slideshow": {
     "slide_type": "slide"
    }
   },
   "source": [
    "<h1><center>From Biological to Artificial Neural Networks</center></h1>\n",
    "\n",
    "- There is now a huge quantity of data available to train neural networks, and ANNs frequently outperform other ML techniques on very large and complex problems.\n",
    "\n",
    "\n",
    "- The tremendous increase in computing power since the 1990s now makes it possible to train large neural networks in a reasonable amount of time.\n",
    "\n",
    "\n",
    "- This is in part due to **Moore’s law** (the number of components in integrated circuits has doubled about every 2 years over the last 50 years), but also thanks to the gaming industry, which has stimulated the production of powerful GPU cards by the millions. Moreover, cloud platforms have made this power accessible to everyone."
   ]
  },
  {
   "cell_type": "markdown",
   "metadata": {
    "slideshow": {
     "slide_type": "slide"
    }
   },
   "source": [
    "<h1><center>ANNs</center></h1>\n",
    "\n",
    "- The training algorithms have been improved. To be fair they are only slightly different from the ones used in the 1990s, but these relatively small tweaks have had a huge positive impact.\n",
    "\n",
    "\n",
    "- Some theoretical limitations of ANNs have turned out to be benign in practice. For example, many people thought that ANN training algorithms were doomed because they were likely to get stuck in local optima, but it turns out that this is rather rare in practice (and when it is the case, they are usually fairly close to the global optimum).\n",
    "\n",
    "\n",
    "- ANNs seem to have entered a virtuous circle of funding and progress. Amazing products based on ANNs regularly make the headline news, which pulls more and more attention and funding toward them, resulting in more and more progress and even more amazing products."
   ]
  },
  {
   "cell_type": "markdown",
   "metadata": {
    "slideshow": {
     "slide_type": "slide"
    }
   },
   "source": [
    "<h1><center>From ANN to Deep Neural Networks</center></h1>\n",
    "\n",
    "<center><img src=\"img/dl.png\" align=\"center\"/></center>"
   ]
  },
  {
   "cell_type": "markdown",
   "metadata": {
    "slideshow": {
     "slide_type": "slide"
    }
   },
   "source": [
    "<h1><center>Why Deep Learning?</center></h1>\n",
    "\n",
    "<center><img src=\"img/why-dl.png\" align=\"center\"/></center>\n",
    "\n",
    "<font size='1'>Image from Ref[3]</font>"
   ]
  },
  {
   "cell_type": "markdown",
   "metadata": {
    "slideshow": {
     "slide_type": "slide"
    }
   },
   "source": [
    "<h1><center>Perceptron</center></h1>\n",
    "\n",
    "<center><img src=\"img/perceptron.png\" align=\"center\"/></center>\n",
    "\n",
    "<font size='1'>Image from Ref[1]</font>"
   ]
  },
  {
   "cell_type": "markdown",
   "metadata": {
    "slideshow": {
     "slide_type": "slide"
    }
   },
   "source": [
    "**Equation 10-1: Common step functions used in Perceptrons**\n",
    "\n",
    "$\n",
    "\\begin{split}\n",
    "\\operatorname{heaviside}(z) =\n",
    "\\begin{cases}\n",
    "0 & \\text{if }z < 0\\\\\n",
    "1 & \\text{if }z \\ge 0\n",
    "\\end{cases} & \\quad\\quad\n",
    "\\operatorname{sgn}(z) =\n",
    "\\begin{cases}\n",
    "-1 & \\text{if }z < 0\\\\\n",
    "0 & \\text{if }z = 0\\\\\n",
    "+1 & \\text{if }z > 0\n",
    "\\end{cases}\n",
    "\\end{split}\n",
    "$"
   ]
  },
  {
   "cell_type": "code",
   "execution_count": 2,
   "metadata": {
    "slideshow": {
     "slide_type": "slide"
    }
   },
   "outputs": [
    {
     "data": {
      "text/plain": [
       "[<matplotlib.lines.Line2D at 0x7f47586168d0>]"
      ]
     },
     "execution_count": 2,
     "metadata": {},
     "output_type": "execute_result"
    },
    {
     "data": {
      "image/png": "[encoded data removed]",
      "text/plain": [
       "<Figure size 432x288 with 1 Axes>"
      ]
     },
     "metadata": {
      "needs_background": "light"
     },
     "output_type": "display_data"
    }
   ],
   "source": [
    "import numpy as np\n",
    "import matplotlib.pyplot as plt\n",
    "%matplotlib inline \n",
    "\n",
    "fig, ax = plt.subplots()\n",
    "\n",
    "# x - y axis\n",
    "ax.axhline(y=0, color='k', linewidth=1)\n",
    "ax.axvline(x=0, color='k', linewidth=1)\n",
    "\n",
    "# step function in blue \n",
    "plt.plot([0, 6], [1, 1], 'b-', linewidth=3)\n",
    "plt.plot([-6, 0], [-1, -1], 'b-', linewidth=3)\n",
    "plt.plot([0, 0], [-1, 1], 'b-', linewidth=3)"
   ]
  },
  {
   "cell_type": "markdown",
   "metadata": {
    "slideshow": {
     "slide_type": "slide"
    }
   },
   "source": [
    "<h1><center>Perceptron Example - 1</center></h1>\n",
    "\n",
    "What is the output of this perceptron?\n",
    "\n",
    "<center><img src=\"img/perceptron-ex1.png\" align=\"center\"/></center>\n",
    "\n",
    "<font size='1'>Image from Ref[2]</font>"
   ]
  },
  {
   "cell_type": "markdown",
   "metadata": {
    "slideshow": {
     "slide_type": "slide"
    }
   },
   "source": [
    "<h1><center>Perceptron Example - 2</center></h1>\n",
    "\n",
    "What is the output of this perceptron?\n",
    "\n",
    "<center><img src=\"img/perceptron-ex2.png\" align=\"center\"/></center>\n",
    "\n",
    "<font size='1'>Image from Ref[2]</font>"
   ]
  },
  {
   "cell_type": "markdown",
   "metadata": {
    "slideshow": {
     "slide_type": "slide"
    }
   },
   "source": [
    "<h1><center>Connection Weights</center></h1>\n",
    "\n",
    "<center><img src=\"img/perceptron-weights.png\" align=\"center\"/></center>\n",
    "\n",
    "<font size='1'>Image from Ref[2]</font>"
   ]
  },
  {
   "cell_type": "markdown",
   "metadata": {
    "slideshow": {
     "slide_type": "slide"
    }
   },
   "source": [
    "<h1><center>What Type of ML Tasks Can A Single-Neuron Perceptron Be Used For?</center></h1>"
   ]
  },
  {
   "cell_type": "markdown",
   "metadata": {
    "slideshow": {
     "slide_type": "fragment"
    }
   },
   "source": [
    "**Answer:** Simple linear binary classification.\n",
    "\n",
    "- It computes a linear combination of the inputs, and if the result exceeds a threshold, it outputs the positive class.\n",
    "\n",
    "- Otherwise it outputs the negative class (just like a Logistic Regression or linear SVM classifier)."
   ]
  },
  {
   "cell_type": "markdown",
   "metadata": {
    "slideshow": {
     "slide_type": "slide"
    }
   },
   "source": [
    "<h1><center>Fully Connected Layer - Dense Layer</center></h1>\n",
    "\n",
    "<center><img src=\"img/perceptron-10-5.png\" align=\"center\"/></center>\n",
    "\n",
    "<font size='1'>Image from Ref[1]</font>"
   ]
  },
  {
   "cell_type": "markdown",
   "metadata": {
    "slideshow": {
     "slide_type": "slide"
    }
   },
   "source": [
    "<center><img src=\"img/fc-equation.png\" align=\"center\"/></center>"
   ]
  },
  {
   "cell_type": "markdown",
   "metadata": {
    "slideshow": {
     "slide_type": "slide"
    }
   },
   "source": [
    "<h1><center>Training Perceptron - Hebb’s Rule</center></h1>\n",
    "\n",
    "- Donald Hebb suggested that when a biological neuron triggers another neuron often, the connection between these two neurons grows stronger.\n",
    "\n",
    "\n",
    "- Siegrid Löwel later summarized Hebb’s idea in the catchy phrase, “Cells that fire together, wire together”; that is, the connection weight between two neurons tends to increase when they fire simultaneously. This rule later became known as **Hebb’s rule** (or Hebbian learning)."
   ]
  },
  {
   "cell_type": "markdown",
   "metadata": {
    "slideshow": {
     "slide_type": "slide"
    }
   },
   "source": [
    "<h1><center>Training Perceptron</center></h1>\n",
    "\n",
    "- Perceptrons are trained using a variant of **Hebb's rule** that takes into account the error made by the network when it makes a prediction; the Perceptron learning rule reinforces connections that help reduce the error. \n",
    "\n",
    "\n",
    "- More specifically, the Perceptron is fed one training instance at a time, and for each instance it makes its predictions.\n",
    "\n",
    "\n",
    "- For every output neuron that produced a wrong prediction, it reinforces the connection weights from the inputs that would have contributed to the correct prediction."
   ]
  },
  {
   "cell_type": "markdown",
   "metadata": {
    "slideshow": {
     "slide_type": "fragment"
    }
   },
   "source": [
    "**Equation 10-3: Perceptron learning rule (weight update)**\n",
    "\n",
    "$\n",
    "{w_{i,j}}^{(\\text{next step})} = w_{i,j} + \\eta (y_j - \\hat{y}_j) x_i\n",
    "$"
   ]
  },
  {
   "cell_type": "markdown",
   "metadata": {
    "slideshow": {
     "slide_type": "slide"
    }
   },
   "source": [
    "<h1><center>Multi-Layer Perceptron (MLP) - Feedforward Neural Networks</center></h1>\n",
    "\n",
    "<center><img src=\"img/mlp.png\" align=\"center\"/></center>\n",
    "\n",
    "<font size='1'>Image from Ref[2]</font>"
   ]
  },
  {
   "cell_type": "markdown",
   "metadata": {
    "slideshow": {
     "slide_type": "slide"
    }
   },
   "source": [
    "<h1><center>Multi-Layer Perceptron (MLP) - Feedforward Neural Networks</center></h1>\n",
    "\n",
    "<center><img src=\"img/mlp-text.png\" align=\"center\"/></center>\n",
    "\n",
    "<font size='1'>Image from Ref[1]</font>"
   ]
  },
  {
   "cell_type": "markdown",
   "metadata": {
    "slideshow": {
     "slide_type": "slide"
    }
   },
   "source": [
    "<h1><center>Non-Linearity and Activation Functions</center></h1>\n",
    "\n",
    "<center><img src=\"img/activation-functions.png\" align=\"center\"/></center>\n",
    "\n",
    "<font size='1'>Image from Ref[4]</font>"
   ]
  },
  {
   "cell_type": "code",
   "execution_count": 7,
   "metadata": {
    "slideshow": {
     "slide_type": "slide"
    }
   },
   "outputs": [
    {
     "data": {
      "text/plain": [
       "[-5, 5, -0.2, 1.2]"
      ]
     },
     "execution_count": 7,
     "metadata": {},
     "output_type": "execute_result"
    },
    {
     "data": {
      "image/png": "[encoded data removed]",
      "text/plain": [
       "<Figure size 792x288 with 2 Axes>"
      ]
     },
     "metadata": {
      "needs_background": "light"
     },
     "output_type": "display_data"
    }
   ],
   "source": [
    "# Activation Functions\n",
    "def sigmoid(z):\n",
    "    return 1 / (1 + np.exp(-z))\n",
    "\n",
    "def relu(z):\n",
    "    return np.maximum(0, z)\n",
    "\n",
    "def derivative(f, z, eps=0.000001):\n",
    "    return (f(z + eps) - f(z - eps))/(2 * eps)\n",
    "\n",
    "z = np.linspace(-5, 5, 200)\n",
    "\n",
    "plt.figure(figsize=(11,4))\n",
    "\n",
    "plt.subplot(121)\n",
    "plt.plot(z, np.sign(z), \"r-\", linewidth=1, label=\"Step\")\n",
    "plt.plot(z, sigmoid(z), \"g--\", linewidth=2, label=\"Sigmoid\")\n",
    "plt.plot(z, np.tanh(z), \"b-\", linewidth=2, label=\"Tanh\")\n",
    "plt.plot(z, relu(z), \"m-.\", linewidth=2, label=\"ReLU\")\n",
    "plt.grid(True)\n",
    "plt.legend(loc=\"center right\", fontsize=14)\n",
    "plt.title(\"Activation functions\", fontsize=14)\n",
    "plt.axis([-5, 5, -1.2, 1.2])\n",
    "\n",
    "plt.subplot(122)\n",
    "plt.plot(z, derivative(np.sign, z), \"r-\", linewidth=1, label=\"Step\")\n",
    "plt.plot(0, 0, \"ro\", markersize=5)\n",
    "plt.plot(0, 0, \"rx\", markersize=10)\n",
    "plt.plot(z, derivative(sigmoid, z), \"g--\", linewidth=2, label=\"Sigmoid\")\n",
    "plt.plot(z, derivative(np.tanh, z), \"b-\", linewidth=2, label=\"Tanh\")\n",
    "plt.plot(z, derivative(relu, z), \"m-.\", linewidth=2, label=\"ReLU\")\n",
    "plt.grid(True)\n",
    "#plt.legend(loc=\"center right\", fontsize=14)\n",
    "plt.title(\"Derivatives\", fontsize=14)\n",
    "plt.axis([-5, 5, -0.2, 1.2])"
   ]
  },
  {
   "cell_type": "code",
   "execution_count": 11,
   "metadata": {
    "slideshow": {
     "slide_type": "slide"
    }
   },
   "outputs": [
    {
     "data": {
      "text/plain": [
       "<matplotlib.legend.Legend at 0x7fec1c227110>"
      ]
     },
     "execution_count": 11,
     "metadata": {},
     "output_type": "execute_result"
    },
    {
     "data": {
      "image/png": "[encoded data removed]",
      "text/plain": [
       "<Figure size 1152x576 with 2 Axes>"
      ]
     },
     "metadata": {
      "needs_background": "light"
     },
     "output_type": "display_data"
    }
   ],
   "source": [
    "# polinomial function\n",
    "def poly(x): \n",
    "    return x**4 + 3 * x**2 + 7 * x + 3\n",
    "\n",
    "# tanh function\n",
    "def tanh(x): \n",
    "    return np.tanh(x)\n",
    "\n",
    "##### Gradient functions\n",
    "\n",
    "# polinomial function\n",
    "def d_poly(x): \n",
    "    return 4 * x**3 + 6 * x + 7\n",
    "\n",
    "# polinomial function\n",
    "def d_tanh(x): \n",
    "    h = tanh(x)\n",
    "    return 1 - h ** 2\n",
    "\n",
    "x = np.linspace(-6, 6, 100)\n",
    "\n",
    "plt.figure(figsize=(16,8))\n",
    "plt.subplot(121)\n",
    "plt.plot(x, poly(x), label=\"$y = x^4 + 3 x^2 + 7 x + 3$\")\n",
    "plt.plot(x, d_poly(x), label=\"$dy$\")\n",
    "plt.legend()\n",
    "\n",
    "plt.subplot(122)\n",
    "plt.plot(x, tanh(x), label=\"$y = tanh(x)$\")\n",
    "plt.plot(x, d_tanh(x), label=\"$dy$\")\n",
    "plt.legend()"
   ]
  },
  {
   "cell_type": "markdown",
   "metadata": {
    "slideshow": {
     "slide_type": "slide"
    }
   },
   "source": [
    "<h1><center>Neural Network Playground</center></h1>\n",
    "\n",
    "http://playground.tensorflow.org/"
   ]
  },
  {
   "cell_type": "markdown",
   "metadata": {
    "slideshow": {
     "slide_type": "slide"
    }
   },
   "source": [
    "<h1><center>Backpropagation</center></h1>\n",
    "\n",
    "- Backpropagation algorithm is used to train MLPs.\n",
    "\n",
    "\n",
    "- Briefly, it is **Gradient Descent** using an efficient technique for computing the gradients automatically: in just two passes through the network (one forward, one backward), the backpropagation algorithm is able to compute the gradient of the network’s error with regard to every single model parameter.\n",
    "\n",
    "\n",
    "- In other words, it can find out how each connection weight and each bias term should be tweaked in order to reduce the error.\n",
    "\n",
    "\n",
    "- Once it has these gradients, it just performs a regular **Gradient Descent** step, and the whole process is repeated until the network converges to the solution."
   ]
  },
  {
   "cell_type": "markdown",
   "metadata": {
    "slideshow": {
     "slide_type": "slide"
    }
   },
   "source": [
    "<h1><center>Backpropagation - Epochs, Forward Pass, Backward Pass</center></h1>\n",
    "\n",
    "- It handles one mini-batch at a time (for example, containing 32 instances each), and it goes through the full training set multiple times. Each pass is called an **epoch**.\n",
    "\n",
    "\n",
    "- Each mini-batch is passed to the network’s input layer, which sends it to the first hidden layer.\n",
    "\n",
    "\n",
    "- The algorithm then computes the output of all the neurons in this layer (for every instance in the mini-batch). The result is passed on to the next layer, its output is computed and passed to the next layer, and so on until we get the output of the last layer, the output layer.\n",
    "\n",
    "\n",
    "- This is the **forward pass**: it is exactly like making predictions, except all intermediate results are preserved since they are needed for the **backward pass**.\n",
    "\n",
    "\n",
    "- Next, the algorithm measures the network’s output error - i.e., it uses a loss function that compares the desired output and the actual output of the network, and returns some measure of the error.\n",
    "\n",
    "\n",
    "- Then it computes how much each output connection contributed to the error. This is done analytically by applying the **chain rule**, which makes this step fast and precise."
   ]
  },
  {
   "cell_type": "markdown",
   "metadata": {
    "slideshow": {
     "slide_type": "slide"
    }
   },
   "source": [
    "<h1><center>Backpropagation Cont.</center></h1>\n",
    "\n",
    "- The algorithm then measures how much of these error contributions came from each connection in the layer below, again using the **chain rule**, working backward until the algorithm reaches the input layer.\n",
    "\n",
    "\n",
    "- As explained earlier, this **reverse pass** efficiently measures the error gradient across all the connection weights in the network by propagating the error gradient backward through the network (hence the name of the algorithm).\n",
    "\n",
    "\n",
    "- Finally, the algorithm performs a **Gradient Descent** step to tweak all the connection weights in the network, using the error gradients it just computed."
   ]
  },
  {
   "cell_type": "markdown",
   "metadata": {
    "slideshow": {
     "slide_type": "slide"
    }
   },
   "source": [
    "<h1><center>Backpropagation Summary</center></h1>\n",
    "\n",
    "\n",
    "- For each training instance, the **backpropagation** algorithm first makes a prediction (**forward pass**) and measures the error, then goes through each layer in reverse to measure the error contribution from each connection (**reverse pass**), and finally tweaks the connection weights to reduce the error (**Gradient Descent** step)."
   ]
  },
  {
   "cell_type": "markdown",
   "metadata": {
    "slideshow": {
     "slide_type": "slide"
    }
   },
   "source": [
    "<h1><center>Regression MLP</center></h1>\n",
    "\n",
    "- Loss function and the metric are usually the same (e.g. \"mse\").\n",
    "\n",
    "<center><img src=\"img/regression-mlp.png\" align=\"center\"/></center>\n",
    "\n",
    "<font size='1'>Table from Ref[1]</font>"
   ]
  },
  {
   "cell_type": "markdown",
   "metadata": {
    "slideshow": {
     "slide_type": "slide"
    }
   },
   "source": [
    "<h1><center>Classification MLP</center></h1>\n",
    "\n",
    "<center><img src=\"img/classification-mlp.png\" align=\"center\"/></center>\n",
    "\n",
    "<font size='1'>Image from Ref[1]</font>"
   ]
  },
  {
   "cell_type": "markdown",
   "metadata": {
    "slideshow": {
     "slide_type": "slide"
    }
   },
   "source": [
    "<h1><center>Classification MLP</center></h1>\n",
    "\n",
    "- Loss function and the mteric (e.g. accuracy) in classification NNs are usually different.\n",
    "\n",
    "<center><img src=\"img/classification-mlp-table.png\" align=\"center\"/></center>\n",
    "\n",
    "<font size='1'>Table from Ref[1]</font>"
   ]
  },
  {
   "cell_type": "markdown",
   "metadata": {
    "slideshow": {
     "slide_type": "slide"
    }
   },
   "source": [
    "<h1><center>Keras</center></h1>\n",
    "\n",
    "<center><img src=\"img/keras.png\" align=\"center\"/></center>\n",
    "\n",
    "<font size='1'>Image from Ref[1]</font>"
   ]
  },
  {
   "cell_type": "markdown",
   "metadata": {
    "slideshow": {
     "slide_type": "slide"
    }
   },
   "source": [
    "<h1><center>Validation</center></h1>\n",
    "\n",
    "<center><img src=\"img/validation.png\" align=\"center\"/></center>\n",
    "\n",
    "<font size='1'>Image from Ref[1]</font>"
   ]
  },
  {
   "cell_type": "markdown",
   "metadata": {
    "slideshow": {
     "slide_type": "slide"
    }
   },
   "source": [
    "<h1><center>Wide & Deep NN</center></h1>\n",
    "\n",
    "<center><img src=\"img/wide-dnn.png\" align=\"center\"/></center>\n",
    "\n",
    "<font size='1'>Image from Ref[1]</font>"
   ]
  },
  {
   "cell_type": "markdown",
   "metadata": {
    "slideshow": {
     "slide_type": "slide"
    }
   },
   "source": [
    "<h1><center>Handling Multiple Inputs</center></h1>\n",
    "\n",
    "<center><img src=\"img/multiple-input.png\" align=\"center\"/></center>\n",
    "\n",
    "<font size='1'>Image from Ref[1]</font>"
   ]
  },
  {
   "cell_type": "markdown",
   "metadata": {
    "slideshow": {
     "slide_type": "slide"
    }
   },
   "source": [
    "<h1><center>Handling Multiple Outputs</center></h1>\n",
    "\n",
    "<center><img src=\"img/multiple-output.png\" align=\"center\"/></center>\n",
    "\n",
    "<font size='1'>Image from Ref[1]</font>"
   ]
  },
  {
   "cell_type": "code",
   "execution_count": null,
   "metadata": {
    "slideshow": {
     "slide_type": "slide"
    }
   },
   "outputs": [],
   "source": [
    "# Using Callbacks\n",
    "\n",
    "[...] # build and compile the model\n",
    "checkpoint_cb = keras.callbacks.ModelCheckpoint(\"my_keras_model.h5\")\n",
    "history = model.fit(X_train, y_train, epochs=10, callbacks=[checkpoint_cb])"
   ]
  },
  {
   "cell_type": "code",
   "execution_count": null,
   "metadata": {
    "slideshow": {
     "slide_type": "fragment"
    }
   },
   "outputs": [],
   "source": [
    "checkpoint_cb = keras.callbacks.ModelCheckpoint(\"my_keras_model.h5\",\n",
    "save_best_only=True)\n",
    "history = model.fit(X_train, y_train, epochs=10,\n",
    "    validation_data=(X_valid, y_valid),\n",
    "    callbacks=[checkpoint_cb])\n",
    "model = keras.models.load_model(\"my_keras_model.h5\") # roll back to best model"
   ]
  },
  {
   "cell_type": "code",
   "execution_count": null,
   "metadata": {
    "slideshow": {
     "slide_type": "fragment"
    }
   },
   "outputs": [],
   "source": [
    "early_stopping_cb = keras.callbacks.EarlyStopping(patience=10,\n",
    "restore_best_weights=True)\n",
    "history = model.fit(X_train, y_train, epochs=100,\n",
    "    validation_data=(X_valid, y_valid),\n",
    "    callbacks=[checkpoint_cb, early_stopping_cb])"
   ]
  },
  {
   "cell_type": "code",
   "execution_count": null,
   "metadata": {
    "slideshow": {
     "slide_type": "slide"
    }
   },
   "outputs": [],
   "source": [
    "# Using Keras Tensorboard Callback\n",
    "[...] # Build and compile your model\n",
    "tensorboard_cb = keras.callbacks.TensorBoard(run_logdir)\n",
    "history = model.fit(X_train, y_train, epochs=30,\n",
    "    validation_data=(X_valid, y_valid),\n",
    "    callbacks=[tensorboard_cb])"
   ]
  },
  {
   "cell_type": "markdown",
   "metadata": {
    "slideshow": {
     "slide_type": "slide"
    }
   },
   "source": [
    "<h1><center>Tensorboard Visulaization</center></h1>\n",
    "\n",
    "<center><img src=\"img/tensorboard.png\" align=\"center\"/></center>\n",
    "\n",
    "<font size='1'>Image from Ref[1]</font>"
   ]
  },
  {
   "cell_type": "markdown",
   "metadata": {
    "slideshow": {
     "slide_type": "slide"
    }
   },
   "source": [
    "<h1><center>Fine-Tuning NN Hyperparameters</center></h1>\n",
    "\n",
    "- There are many **hyperparameters** to tweak, the number of layers, the number of neurons per layer, the type of activation function to use in each layer, the weight initialization logic, and much more.\n",
    "\n",
    "\n",
    "- How do you know what combination of **hyperparameters** is the best for your task?\n",
    "\n",
    "- One option is to simply try many combinations of **hyperparameters** and see which one works best on the validation set (or use K-fold cross-validation).\n",
    "\n",
    "\n",
    "- For example, we can use `GridSearchCV` or `RandomizedSearchCV` to explore the **hyperparameter** space.\n",
    "\n",
    "\n",
    "- Moreover, there are many techniques to explore a search space much more efficiently than randomly. Their core idea is simple: when a region of the space turns out to be good, it should be explored more.\n",
    "\n",
    "\n",
    "- Such techniques take care of the **zooming** process for you and lead to much better solutions in much less time.\n",
    "\n",
    "\n",
    "- Some Python libraries you can use to optimize **hyperparameters**: [Hyperopt](https://github.com/hyperopt/hyperopt), [Keras Tuner](https://www.youtube.com/watch?v=Un0JDL3i5Hg&t=24s), [Scikit-Optimizie](https://scikit-optimize.github.io/stable/), [Spearmint](https://github.com/JasperSnoek/spearmint), [Sklearn Deap](https://github.com/rsteca/sklearn-deap)"
   ]
  },
  {
   "cell_type": "markdown",
   "metadata": {
    "slideshow": {
     "slide_type": "slide"
    }
   },
   "source": [
    "<h1><center>Fine-Tuning NN Hyperparameters Cont.</center></h1>\n",
    "\n",
    "- Some empirical heuristics for hyperparameter tuning - part I:\n",
    "    - **Number of hidden layers**: \n",
    "        - For many problems you can start with just one or two hidden layers and the neural network will work just fine.\n",
    "        - For more complex problems, you can ramp up the number of hidden layers until you start overfitting the training set.\n",
    "    - **Number of neurons per hidden layer**:\n",
    "        - The number of neurons in the input and output layers is determined by the type of input and output your task requires. For example, the MNIST task requires 28 × 28 = 784 input neurons and 10 output neurons.\n",
    "        - It seems that using the same number of neurons in all hidden layers performs well. \n",
    "        - That said, depending on the dataset, it can sometimes help to make the first hidden layer bigger than the others.\n",
    "        - Just like the number of layers, you can try increasing the number of neurons gradually until the network starts overfitting.\n",
    "    - **Learning rate**:\n",
    "        - One way to find a good learning rate is to train the model for a few hundred iterations, starting with a very low learning rate (e.g., $10^{-5}$) and gradually increasing it up to a very large value, e.g., 10.\n",
    "        - This is done by multiplying the learning rate by a constant factor at each iteration, e.g., by $e^{log(10^6 )/500}$ to go from $10^-5$ to 10 in 500 iterations."
   ]
  },
  {
   "cell_type": "markdown",
   "metadata": {
    "slideshow": {
     "slide_type": "slide"
    }
   },
   "source": [
    "<h1><center>Fine-Tuning NN Hyperparameters Cont.</center></h1>\n",
    "\n",
    "- Some empirical heuristics for hyperparameter tuning - part II:\n",
    "    - **Optimizer**:\n",
    "        - Choosing a better optimizer than plain old Mini-batch Gradient Descent (and tuning its hyperparameters) is also quite important. `adam` and momentum-based optimizers generaly work efficiently.\n",
    "    - **Batch size**: \n",
    "        - The batch size can have a significant impact on your model’s performance and training time.\n",
    "        - The main benefit of using large batch sizes is that hardware accelerators like GPUs can process them efficiently.\n",
    "        - One strategy is to try to use a large batch size, using learning rate warmup, and if training is unstable or the final performance is disappointing, then try using a small batch size instead.\n",
    "    - **Activation function**:\n",
    "        - In general, the ReLU activation function will be a good default for all hidden layers.\n",
    "        - For the output layer, it really depends on your ML task.\n",
    "    - **Number of iterations**:\n",
    "        - Use callback and early stopping."
   ]
  },
  {
   "cell_type": "markdown",
   "metadata": {
    "slideshow": {
     "slide_type": "notes"
    }
   },
   "source": [
    "<h1><center>References</center></h1>\n",
    "\n",
    "[1] Hands-On ML Textbook Edition-2 2019\n",
    "\n",
    "[2] MJ Lee's Slides from UNCC\n",
    "\n",
    "[3] Andrew Ng's Slides\n",
    "\n",
    "[4] https://towardsdatascience.com/complete-guide-of-activation-functions-34076e95d044"
   ]
  }
 ],
 "metadata": {
  "celltoolbar": "Slideshow",
  "kernelspec": {
   "display_name": "Python 3",
   "language": "python",
   "name": "python3"
  },
  "language_info": {
   "codemirror_mode": {
    "name": "ipython",
    "version": 3
   },
   "file_extension": ".py",
   "mimetype": "text/x-python",
   "name": "python",
   "nbconvert_exporter": "python",
   "pygments_lexer": "ipython3",
   "version": "3.7.5"
  }
 },
 "nbformat": 4,
 "nbformat_minor": 2
}
